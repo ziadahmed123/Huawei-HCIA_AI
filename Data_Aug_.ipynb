{
  "nbformat": 4,
  "nbformat_minor": 0,
  "metadata": {
    "colab": {
      "provenance": []
    },
    "kernelspec": {
      "name": "python3",
      "display_name": "Python 3"
    },
    "language_info": {
      "name": "python"
    }
  },
  "cells": [
    {
      "cell_type": "code",
      "source": [
        "!pip install keras_preprocessing"
      ],
      "metadata": {
        "colab": {
          "base_uri": "https://localhost:8080/"
        },
        "id": "Eb93kKgZyfEN",
        "outputId": "8c850189-bed7-46b7-997d-b6ee1b693093"
      },
      "execution_count": 7,
      "outputs": [
        {
          "output_type": "stream",
          "name": "stdout",
          "text": [
            "Looking in indexes: https://pypi.org/simple, https://us-python.pkg.dev/colab-wheels/public/simple/\n",
            "Collecting keras_preprocessing\n",
            "  Downloading Keras_Preprocessing-1.1.2-py2.py3-none-any.whl (42 kB)\n",
            "\u001b[2K     \u001b[90m━━━━━━━━━━━━━━━━━━━━━━━━━━━━━━━━━━━━━━━━\u001b[0m \u001b[32m42.6/42.6 KB\u001b[0m \u001b[31m4.5 MB/s\u001b[0m eta \u001b[36m0:00:00\u001b[0m\n",
            "\u001b[?25hRequirement already satisfied: six>=1.9.0 in /usr/local/lib/python3.9/dist-packages (from keras_preprocessing) (1.16.0)\n",
            "Requirement already satisfied: numpy>=1.9.1 in /usr/local/lib/python3.9/dist-packages (from keras_preprocessing) (1.22.4)\n",
            "Installing collected packages: keras_preprocessing\n",
            "Successfully installed keras_preprocessing-1.1.2\n"
          ]
        }
      ]
    },
    {
      "cell_type": "code",
      "execution_count": 8,
      "metadata": {
        "id": "kZzlw4uTZaa8"
      },
      "outputs": [],
      "source": [
        "#Importing necessary functions\n",
        "from keras_preprocessing.image import ImageDataGenerator,array_to_img, img_to_array, load_img\n",
        "   \n",
        "# Initialising the ImageDataGenerator class.\n",
        "# We will pass in the augmentation parameters in the constructor.\n",
        "datagen = ImageDataGenerator(\n",
        "        rotation_range = 40,\n",
        "        shear_range = 0.2,\n",
        "        zoom_range = 0.2,\n",
        "        horizontal_flip = True,\n",
        "        brightness_range = (0.5, 1.5))\n",
        "    \n",
        "# Loading a sample image \n",
        "img = load_img('/content/sample_data/download.jpg') \n",
        "# Converting the input sample image to an array\n",
        "x = img_to_array(img)\n",
        "# Reshaping the input image\n",
        "x = x.reshape((1, ) + x.shape) \n",
        "   \n",
        "# Generating and saving 5 augmented samples \n",
        "# using the above defined parameters. \n",
        "i = 0\n",
        "for batch in datagen.flow(x, batch_size = 1,save_to_dir ='/content/sample_data',save_prefix ='image', save_format ='jpg'):\n",
        "    i += 1\n",
        "    if i > 20:\n",
        "        break"
      ]
    }
  ]
}