{
  "nbformat": 4,
  "nbformat_minor": 0,
  "metadata": {
    "colab": {
      "name": "Logistic_Regression_NN_minst.ipynb",
      "provenance": [],
      "collapsed_sections": []
    },
    "kernelspec": {
      "name": "python3",
      "display_name": "Python 3"
    },
    "language_info": {
      "name": "python"
    },
    "accelerator": "GPU"
  },
  "cells": [
    {
      "cell_type": "code",
      "execution_count": null,
      "metadata": {
        "colab": {
          "base_uri": "https://localhost:8080/"
        },
        "id": "lSll-kV_bYkB",
        "outputId": "c2ad31b3-ed5b-4373-ef4f-3a82f5feb405"
      },
      "outputs": [
        {
          "output_type": "stream",
          "name": "stdout",
          "text": [
            "2.7.0\n"
          ]
        }
      ],
      "source": [
        "import numpy as np\n",
        "from tensorflow import keras\n",
        "print (keras.__version__)\n"
      ]
    },
    {
      "cell_type": "code",
      "source": [
        "from keras.datasets import mnist\n",
        "\n",
        "#We import data into variables and check their shape.\n",
        "\n",
        "(x_train, y_train), (x_test, y_test) = mnist.load_data()\n",
        "x_train.shape\n"
      ],
      "metadata": {
        "colab": {
          "base_uri": "https://localhost:8080/"
        },
        "id": "Yt6NW6k1eHtC",
        "outputId": "726eaad6-4d27-4102-f18d-fe4e0d0ccda5"
      },
      "execution_count": null,
      "outputs": [
        {
          "output_type": "execute_result",
          "data": {
            "text/plain": [
              "(60000, 28, 28)"
            ]
          },
          "metadata": {},
          "execution_count": 2
        }
      ]
    },
    {
      "cell_type": "code",
      "source": [
        "y_train.shape\n"
      ],
      "metadata": {
        "colab": {
          "base_uri": "https://localhost:8080/"
        },
        "id": "EM2kRL5beTyK",
        "outputId": "b7d2cb25-49c5-4a2f-f94a-9939a72a881c"
      },
      "execution_count": null,
      "outputs": [
        {
          "output_type": "execute_result",
          "data": {
            "text/plain": [
              "(60000,)"
            ]
          },
          "metadata": {},
          "execution_count": 3
        }
      ]
    },
    {
      "cell_type": "code",
      "source": [
        "y_train[:10]"
      ],
      "metadata": {
        "colab": {
          "base_uri": "https://localhost:8080/"
        },
        "id": "-IXpHpyxesLq",
        "outputId": "1c53ae1c-9fcd-4be4-d8ae-df6bf2920546"
      },
      "execution_count": null,
      "outputs": [
        {
          "output_type": "execute_result",
          "data": {
            "text/plain": [
              "array([5, 0, 4, 1, 9, 2, 1, 3, 1, 4], dtype=uint8)"
            ]
          },
          "metadata": {},
          "execution_count": 4
        }
      ]
    },
    {
      "cell_type": "code",
      "source": [
        "x_train_final = x_train.reshape((-1, 784))\n",
        "x_train_final.shape\n"
      ],
      "metadata": {
        "colab": {
          "base_uri": "https://localhost:8080/"
        },
        "id": "FUrYANRrg81R",
        "outputId": "efa62d6b-be86-4c36-c182-e78ef81b1932"
      },
      "execution_count": null,
      "outputs": [
        {
          "output_type": "execute_result",
          "data": {
            "text/plain": [
              "(60000, 784)"
            ]
          },
          "metadata": {},
          "execution_count": 5
        }
      ]
    },
    {
      "cell_type": "code",
      "source": [
        "x_test_final = x_test.reshape((-1, 784))\n",
        "x_test_final.shape"
      ],
      "metadata": {
        "colab": {
          "base_uri": "https://localhost:8080/"
        },
        "id": "PvASQG1HiQsb",
        "outputId": "72e9ecf6-28f9-4a28-ff4f-211664e1dc65"
      },
      "execution_count": null,
      "outputs": [
        {
          "output_type": "execute_result",
          "data": {
            "text/plain": [
              "(10000, 784)"
            ]
          },
          "metadata": {},
          "execution_count": 6
        }
      ]
    },
    {
      "cell_type": "code",
      "source": [
        "x_train_final = x_train_final / 255\n",
        "x_test_final = x_test_final / 255\n"
      ],
      "metadata": {
        "id": "FeitXU4CjM1O"
      },
      "execution_count": null,
      "outputs": []
    },
    {
      "cell_type": "code",
      "source": [
        "model = keras.Sequential(keras.layers.Dense(10, input_shape=(784,), activation='softmax'))\n",
        "\n"
      ],
      "metadata": {
        "id": "qkEPIMixjVHa"
      },
      "execution_count": null,
      "outputs": []
    },
    {
      "cell_type": "code",
      "source": [
        "model.compile(optimizer='sgd', loss='sparse_categorical_crossentropy', metrics=['accuracy'])\n"
      ],
      "metadata": {
        "id": "w6cW3p63kS_Y"
      },
      "execution_count": null,
      "outputs": []
    },
    {
      "cell_type": "code",
      "source": [
        "results = model.fit(\n",
        "  x=x_train_final,\n",
        "  y=y_train,\n",
        "  shuffle=True,\n",
        "  epochs=30,\n",
        "  batch_size=16,\n",
        "  validation_data=(x_test_final, y_test)\n",
        "\n",
        ")\n"
      ],
      "metadata": {
        "colab": {
          "base_uri": "https://localhost:8080/"
        },
        "id": "OrA0NyZdkb3K",
        "outputId": "20b2a059-4e17-4b5d-dc89-f08fd00b2a7f"
      },
      "execution_count": null,
      "outputs": [
        {
          "output_type": "stream",
          "name": "stdout",
          "text": [
            "Epoch 1/30\n",
            "3750/3750 [==============================] - 18s 5ms/step - loss: 0.6208 - accuracy: 0.8458 - val_loss: 0.4004 - val_accuracy: 0.8951\n",
            "Epoch 2/30\n",
            "3750/3750 [==============================] - 11s 3ms/step - loss: 0.3916 - accuracy: 0.8938 - val_loss: 0.3486 - val_accuracy: 0.9058\n",
            "Epoch 3/30\n",
            "3750/3750 [==============================] - 11s 3ms/step - loss: 0.3557 - accuracy: 0.9018 - val_loss: 0.3264 - val_accuracy: 0.9112\n",
            "Epoch 4/30\n",
            "3750/3750 [==============================] - 11s 3ms/step - loss: 0.3372 - accuracy: 0.9059 - val_loss: 0.3141 - val_accuracy: 0.9140\n",
            "Epoch 5/30\n",
            "3750/3750 [==============================] - 11s 3ms/step - loss: 0.3253 - accuracy: 0.9092 - val_loss: 0.3058 - val_accuracy: 0.9156\n",
            "Epoch 6/30\n",
            "3750/3750 [==============================] - 11s 3ms/step - loss: 0.3167 - accuracy: 0.9121 - val_loss: 0.3005 - val_accuracy: 0.9163\n",
            "Epoch 7/30\n",
            "3750/3750 [==============================] - 11s 3ms/step - loss: 0.3101 - accuracy: 0.9132 - val_loss: 0.2959 - val_accuracy: 0.9174\n",
            "Epoch 8/30\n",
            "3750/3750 [==============================] - 11s 3ms/step - loss: 0.3048 - accuracy: 0.9150 - val_loss: 0.2921 - val_accuracy: 0.9180\n",
            "Epoch 9/30\n",
            "3750/3750 [==============================] - 12s 3ms/step - loss: 0.3007 - accuracy: 0.9162 - val_loss: 0.2891 - val_accuracy: 0.9192\n",
            "Epoch 10/30\n",
            "3750/3750 [==============================] - 11s 3ms/step - loss: 0.2970 - accuracy: 0.9173 - val_loss: 0.2885 - val_accuracy: 0.9196\n",
            "Epoch 11/30\n",
            "3750/3750 [==============================] - 11s 3ms/step - loss: 0.2941 - accuracy: 0.9180 - val_loss: 0.2846 - val_accuracy: 0.9193\n",
            "Epoch 12/30\n",
            "3750/3750 [==============================] - 11s 3ms/step - loss: 0.2914 - accuracy: 0.9188 - val_loss: 0.2832 - val_accuracy: 0.9212\n",
            "Epoch 13/30\n",
            "3750/3750 [==============================] - 11s 3ms/step - loss: 0.2889 - accuracy: 0.9199 - val_loss: 0.2816 - val_accuracy: 0.9203\n",
            "Epoch 14/30\n",
            "3750/3750 [==============================] - 11s 3ms/step - loss: 0.2867 - accuracy: 0.9203 - val_loss: 0.2807 - val_accuracy: 0.9208\n",
            "Epoch 15/30\n",
            "3750/3750 [==============================] - 11s 3ms/step - loss: 0.2849 - accuracy: 0.9209 - val_loss: 0.2786 - val_accuracy: 0.9224\n",
            "Epoch 16/30\n",
            "3750/3750 [==============================] - 11s 3ms/step - loss: 0.2833 - accuracy: 0.9214 - val_loss: 0.2781 - val_accuracy: 0.9218\n",
            "Epoch 17/30\n",
            "3750/3750 [==============================] - 12s 3ms/step - loss: 0.2815 - accuracy: 0.9218 - val_loss: 0.2780 - val_accuracy: 0.9219\n",
            "Epoch 18/30\n",
            "3750/3750 [==============================] - 11s 3ms/step - loss: 0.2801 - accuracy: 0.9219 - val_loss: 0.2766 - val_accuracy: 0.9233\n",
            "Epoch 19/30\n",
            "3750/3750 [==============================] - 12s 3ms/step - loss: 0.2788 - accuracy: 0.9224 - val_loss: 0.2762 - val_accuracy: 0.9225\n",
            "Epoch 20/30\n",
            "3750/3750 [==============================] - 11s 3ms/step - loss: 0.2776 - accuracy: 0.9228 - val_loss: 0.2749 - val_accuracy: 0.9233\n",
            "Epoch 21/30\n",
            "3750/3750 [==============================] - 11s 3ms/step - loss: 0.2763 - accuracy: 0.9233 - val_loss: 0.2747 - val_accuracy: 0.9222\n",
            "Epoch 22/30\n",
            "3750/3750 [==============================] - 11s 3ms/step - loss: 0.2752 - accuracy: 0.9240 - val_loss: 0.2744 - val_accuracy: 0.9215\n",
            "Epoch 23/30\n",
            "3750/3750 [==============================] - 11s 3ms/step - loss: 0.2743 - accuracy: 0.9239 - val_loss: 0.2739 - val_accuracy: 0.9227\n",
            "Epoch 24/30\n",
            "3750/3750 [==============================] - 12s 3ms/step - loss: 0.2732 - accuracy: 0.9244 - val_loss: 0.2735 - val_accuracy: 0.9229\n",
            "Epoch 25/30\n",
            "3750/3750 [==============================] - 11s 3ms/step - loss: 0.2724 - accuracy: 0.9246 - val_loss: 0.2730 - val_accuracy: 0.9232\n",
            "Epoch 26/30\n",
            "3750/3750 [==============================] - 12s 3ms/step - loss: 0.2715 - accuracy: 0.9248 - val_loss: 0.2716 - val_accuracy: 0.9224\n",
            "Epoch 27/30\n",
            "3750/3750 [==============================] - 16s 4ms/step - loss: 0.2707 - accuracy: 0.9249 - val_loss: 0.2714 - val_accuracy: 0.9237\n",
            "Epoch 28/30\n",
            "3750/3750 [==============================] - 12s 3ms/step - loss: 0.2699 - accuracy: 0.9254 - val_loss: 0.2714 - val_accuracy: 0.9239\n",
            "Epoch 29/30\n",
            "3750/3750 [==============================] - 11s 3ms/step - loss: 0.2691 - accuracy: 0.9254 - val_loss: 0.2711 - val_accuracy: 0.9227\n",
            "Epoch 30/30\n",
            "3750/3750 [==============================] - 11s 3ms/step - loss: 0.2683 - accuracy: 0.9258 - val_loss: 0.2699 - val_accuracy: 0.9233\n"
          ]
        }
      ]
    },
    {
      "cell_type": "code",
      "source": [
        "eval = model.evaluate(x=x_test_final, y=y_test)\n"
      ],
      "metadata": {
        "colab": {
          "base_uri": "https://localhost:8080/"
        },
        "id": "zsm8NudSnbXu",
        "outputId": "431d237f-7313-44e4-c562-33d52a63d21c"
      },
      "execution_count": null,
      "outputs": [
        {
          "output_type": "stream",
          "name": "stdout",
          "text": [
            "313/313 [==============================] - 1s 3ms/step - loss: 0.2699 - accuracy: 0.9233\n"
          ]
        }
      ]
    },
    {
      "cell_type": "code",
      "source": [
        "import matplotlib.pyplot as plt\n",
        "\n",
        "plt.plot(results.history['loss'])\n",
        "plt.plot(results.history['val_loss'])\n",
        "plt.legend(['Training', 'Validation'])\n",
        "plt.title('Training and Validation Losses')\n",
        "plt.xlabel('epoch')\n",
        "plt.ylabel('Losses')\n"
      ],
      "metadata": {
        "colab": {
          "base_uri": "https://localhost:8080/",
          "height": 312
        },
        "id": "z6YQ_jX0oX-R",
        "outputId": "6abf7fb7-15b2-482e-e466-aa259751ca1d"
      },
      "execution_count": null,
      "outputs": [
        {
          "output_type": "execute_result",
          "data": {
            "text/plain": [
              "Text(0, 0.5, 'Losses')"
            ]
          },
          "metadata": {},
          "execution_count": 13
        },
        {
          "output_type": "display_data",
          "data": {
            "image/png": "[encoded data removed]",
            "text/plain": [
              "<Figure size 432x288 with 1 Axes>"
            ]
          },
          "metadata": {
            "needs_background": "light"
          }
        }
      ]
    },
    {
      "cell_type": "code",
      "source": [
        "plt.plot(results.history['accuracy'])\n",
        "plt.plot(results.history['val_accuracy'])\n",
        "plt.legend(['Training', 'Validation'])\n",
        "plt.title('Training and Validation Losses')\n",
        "plt.xlabel('epoch')\n",
        "plt.ylabel('Accuracy')"
      ],
      "metadata": {
        "colab": {
          "base_uri": "https://localhost:8080/",
          "height": 312
        },
        "id": "t42U1jSTp-1m",
        "outputId": "40e535dc-1e30-4f09-cca1-2c9d43473375"
      },
      "execution_count": null,
      "outputs": [
        {
          "output_type": "execute_result",
          "data": {
            "text/plain": [
              "Text(0, 0.5, 'Accuracy')"
            ]
          },
          "metadata": {},
          "execution_count": 14
        },
        {
          "output_type": "display_data",
          "data": {
            "image/png": "[encoded data removed]",
            "text/plain": [
              "<Figure size 432x288 with 1 Axes>"
            ]
          },
          "metadata": {
            "needs_background": "light"
          }
        }
      ]
    }
  ]
}