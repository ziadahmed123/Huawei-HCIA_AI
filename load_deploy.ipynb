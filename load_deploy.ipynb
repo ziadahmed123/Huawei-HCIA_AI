{
  "nbformat": 4,
  "nbformat_minor": 0,
  "metadata": {
    "colab": {
      "name": "load_deploy.ipynb",
      "provenance": []
    },
    "kernelspec": {
      "name": "python3",
      "display_name": "Python 3"
    },
    "language_info": {
      "name": "python"
    }
  },
  "cells": [
    {
      "cell_type": "markdown",
      "source": [
        ""
      ],
      "metadata": {
        "id": "v3ERAGPRYVgI"
      }
    },
    {
      "cell_type": "code",
      "execution_count": 1,
      "metadata": {
        "id": "Z6NFmXePUfMX"
      },
      "outputs": [],
      "source": [
        "import tensorflow as tf\n",
        "from tensorflow import keras\n"
      ]
    },
    {
      "cell_type": "code",
      "source": [
        "X=tf.keras.models.load_model('/content/House_price.h5')"
      ],
      "metadata": {
        "id": "J0-lSZWgVEAr"
      },
      "execution_count": 3,
      "outputs": []
    },
    {
      "cell_type": "code",
      "source": [
        "\n",
        "X.predict([[2.8040301 , -0.50784934,  0.96960877, -0.32969024,  1.23174581,\n",
        "        0.11934137,  1.14739788, -0.91935276,  1.60609286,  1.40778227,\n",
        "        0.90513041, -4.27829517,  2.51324773]])"
      ],
      "metadata": {
        "colab": {
          "base_uri": "https://localhost:8080/"
        },
        "id": "5aRw0SK2Vaf2",
        "outputId": "01ffb756-3236-4e5b-ea8e-af6ddc0848ab"
      },
      "execution_count": 5,
      "outputs": [
        {
          "output_type": "execute_result",
          "data": {
            "text/plain": [
              "array([[7.7831454]], dtype=float32)"
            ]
          },
          "metadata": {},
          "execution_count": 5
        }
      ]
    }
  ]
}